{
 "cells": [
  {
   "cell_type": "markdown",
   "id": "146a9008-7f03-4c62-aa52-cbcc570e30a0",
   "metadata": {},
   "source": [
    "\n",
    "# Van der Pol oscillator"
   ]
  },
  {
   "cell_type": "markdown",
   "id": "72f7a476-0981-432d-acc3-dd76e154e161",
   "metadata": {},
   "source": [
    "\n",
    "The second order non-linear autonomous differential equation\n",
    "$$\n",
    "    your-markdown-here\n",
    "$$\n",
    "is called *van der Pol equation*.  The equation models a\n",
    "  non-conservative system in which energy is added to and subtracted\n",
    "  from.  The sign of the ``coefficient'' in the damping term in\n",
    "  van der Pol equation, $your-markdown-here$ changes,\n",
    "  depending whether $|x|$ is larger or smaller than one, describing\n",
    "  the inflow and outflow of the energy.\n",
    "\n",
    "  The equation was originally proposed in the 1920s to describe stable\n",
    "  oscillations in electrical circuits employing vacuum tubes. By now,\n",
    "  the van der Pol equation (under different names) has a long history\n",
    "  of being used in physical and biological sciences."
   ]
  },
  {
   "cell_type": "markdown",
   "id": "b7ba4350-54f6-4543-a683-7cbc79d2f7cb",
   "metadata": {},
   "source": [
    "\n",
    "  Van der Pol oscillator is an example of a system that exibits the so\n",
    "  called \\emph{limit cycle}.  A limit cycle is an isolated closed\n",
    "  trajectory $\\dot{x} = \\dot{x}(x)$ in the phase space $(x,\n",
    "  \\dot{x})$. Isolated means that neighboring trajectories are not\n",
    "  closed; they spiral either toward or away from the limit cycle. If\n",
    "  all neighboring trajectories approach the limit cycle, we say the\n",
    "  limit cycle is stable or attracting. Otherwise the limit cycle is in\n",
    "  general unstable.\n",
    "\n",
    "  Stable limit cycles model systems, e.g.\\ the beating of a heart,\n",
    "  that exhibit self-sustained oscillations. These systems oscillate\n",
    "  even in the absence of external periodic forcing.  There is a\n",
    "  standard oscillation of some preferred period, waveform, and\n",
    "  amplitude. If the system is perturbed slightly, it returns to the\n",
    "  standard cycle.\n",
    "\n",
    "  Limit cycles are inherently nonlinear phenomena. They can't occur in\n",
    "  linear systerns. Of course, a linear system, such as a linear\n",
    "  differential equation, can have closed orbits -- periodic solutions,\n",
    "  but they won't be isolated. If $x(t)$ is a periodic solution, then\n",
    "  so is $\\alpha x(t)$ for any constant $\\alpha \\not= 0$. Hence $x(t)$\n",
    "  is surrounded by a 'family' of closed orbits. Consequently, the\n",
    "  amplitude of a linear oscillation is set entirely by its initial\n",
    "  conditions. Any slight disturbance to the amplitude will persist\n",
    "  forever. In contrast, limit cycle oscillations are determined by the\n",
    "  structure of the system itself.\n",
    "\n",
    "  Limit cycles are only possible in systems with dissipation. System\n",
    "  that conserve energy do not have isolated closed trajectories."
   ]
  },
  {
   "cell_type": "code",
   "execution_count": null,
   "id": "72dbcd2b-5773-428e-b677-2c61095a72be",
   "metadata": {},
   "outputs": [],
   "source": [
    "\n",
    "using PyPlot"
   ]
  },
  {
   "cell_type": "code",
   "execution_count": null,
   "id": "462e4029-8c71-4732-9a3b-682d538d2ce3",
   "metadata": {},
   "outputs": [],
   "source": [
    "\n",
    "using OrdinaryDiffEqTsit5"
   ]
  },
  {
   "cell_type": "code",
   "execution_count": null,
   "id": "a93502b5-d935-403f-ac6f-70f8992979be",
   "metadata": {},
   "outputs": [],
   "source": [
    "\n",
    "# RHS of van der Pol ODE when it is written a system of ordinary differential equations\n",
    "function vanderpol!(dydx, y, epsilon, t)\n",
    "    dydx[1] = your-code-here\n",
    "    dydx[2] = your-code-here\n",
    "end"
   ]
  },
  {
   "cell_type": "markdown",
   "id": "c32981c0-ffa6-453a-b97f-ec261cf59714",
   "metadata": {},
   "source": [
    "## Weak nonlinearity"
   ]
  },
  {
   "cell_type": "code",
   "execution_count": null,
   "id": "a23850c3-989a-4d8c-acf6-6978ec32170c",
   "metadata": {},
   "outputs": [],
   "source": [
    "\n",
    "eps1 = 0.1"
   ]
  },
  {
   "cell_type": "markdown",
   "id": "31f48978-f7c3-415b-8f9a-f6826f076851",
   "metadata": {},
   "source": [
    "Specify initial conditions and the integration range:"
   ]
  },
  {
   "cell_type": "code",
   "execution_count": null,
   "id": "58c036ce-5d25-41df-aa5d-2fde6788daca",
   "metadata": {},
   "outputs": [],
   "source": [
    "\n",
    "u01 = [1.5, 0.0]\n",
    "tspan1 = (0.0, your-limit); # try in the range 50 to 100"
   ]
  },
  {
   "cell_type": "markdown",
   "id": "48e3f23e-eba6-4cf2-b49a-8e4fd5b439b7",
   "metadata": {},
   "source": [
    "\n",
    "Define the problem and solve it:"
   ]
  },
  {
   "cell_type": "code",
   "execution_count": null,
   "id": "5b0a102b-453d-4772-bd4d-ef96eb57fcba",
   "metadata": {},
   "outputs": [],
   "source": [
    "\n",
    "prob1 = ODEProblem(your-parameters);\n",
    "sol1 = solve(prob1, Tsit5(), reltol=1e-10, abstol=1e-10);"
   ]
  },
  {
   "cell_type": "markdown",
   "id": "467172f0-3b26-4736-af6e-f46f1b07f030",
   "metadata": {},
   "source": [
    "\n",
    "Calculate the solution in equidistant points (for good quality plotting)"
   ]
  },
  {
   "cell_type": "code",
   "execution_count": null,
   "id": "b3119207-b942-4e15-9c30-3604842751be",
   "metadata": {},
   "outputs": [],
   "source": [
    "\n",
    "np1 = 1000\n",
    "t1 = range(tspan1[1], tspan1[2], np1)\n",
    "sl1 = sol1(t1);"
   ]
  },
  {
   "cell_type": "markdown",
   "id": "dfdc8cda-ecc4-4e1a-939b-77c2c02e0c0c",
   "metadata": {},
   "source": [
    "\n",
    "Define helper functions for convenient extraction of coordinates and velocities out of the matrix of solutions "
   ]
  },
  {
   "cell_type": "code",
   "execution_count": null,
   "id": "7bbdaeb1-2394-48b1-a604-b26902c04e9b",
   "metadata": {},
   "outputs": [],
   "source": [
    "\n",
    "pos(x) = x[1]\n",
    "vel(x) = x[2];"
   ]
  },
  {
   "cell_type": "markdown",
   "id": "aae17b09-2702-498b-bcc8-205a5aaaabcc",
   "metadata": {},
   "source": [
    "Extract coordinates and velocities"
   ]
  },
  {
   "cell_type": "code",
   "execution_count": null,
   "id": "b9e70b64-df2a-42be-b5ae-2d86498173d8",
   "metadata": {},
   "outputs": [],
   "source": [
    "\n",
    "u1 = pos.(sl1.u)\n",
    "v1 = vel.(sl1.u);"
   ]
  },
  {
   "cell_type": "markdown",
   "id": "c0144877-1f68-4745-8986-d3763301a241",
   "metadata": {},
   "source": [
    "Plot the trajectory in the phase plane:"
   ]
  },
  {
   "cell_type": "code",
   "execution_count": null,
   "id": "a9fed5e6-905b-4e40-8b2d-1f73cf4e9ee1",
   "metadata": {},
   "outputs": [],
   "source": [
    "\n",
    "plot(u1, v1)\n",
    "scatter(u01[1], u01[2], marker=\"o\", color=\"red\", label=\"start\")  # mark the starting point\n",
    "grid(true)\n",
    "xlabel(L\"x\")\n",
    "ylabel(L\"\\dot{x}\")\n",
    "title(\"Phase trajectory of weakly-nonlinear van der Pol oscillator\")\n",
    "axis(\"equal\")\n",
    "legend();"
   ]
  },
  {
   "cell_type": "markdown",
   "id": "eacaa9d1-d7d2-48bf-849f-c0101f77c9cd",
   "metadata": {},
   "source": [
    "## Strong nonlinearity"
   ]
  },
  {
   "cell_type": "code",
   "execution_count": null,
   "id": "30950dda-21c2-407d-b914-dc350512da5d",
   "metadata": {},
   "outputs": [],
   "source": [
    "\n",
    "eps2 = 10.0"
   ]
  },
  {
   "cell_type": "markdown",
   "id": "2c1742b8-c928-4d22-a90d-dbfee8da76ad",
   "metadata": {},
   "source": [
    "Specify initial conditions and the integration range:"
   ]
  },
  {
   "cell_type": "code",
   "execution_count": null,
   "id": "eac07492-7d51-4d24-9d0e-23bb29bc3380",
   "metadata": {},
   "outputs": [],
   "source": [
    "\n",
    "u02 = [0.5, 0.0]\n",
    "tspan2 = (0.0, your-limit);  # try in the range 30 to 50"
   ]
  },
  {
   "cell_type": "markdown",
   "id": "a39c45b2-de82-48a8-a260-a643094d5508",
   "metadata": {},
   "source": [
    "\n",
    "Define the problem and solve it:"
   ]
  },
  {
   "cell_type": "code",
   "execution_count": null,
   "id": "a6b334f4-a243-4bf0-a4ed-fda8848ddcbc",
   "metadata": {},
   "outputs": [],
   "source": [
    "\n",
    "prob2 = ODEProblem(your-parameters)\n",
    "sol2 = solve(prob2, Tsit5(), reltol=1e-10, abstol=1e-10);"
   ]
  },
  {
   "cell_type": "markdown",
   "id": "5a36c91e-fbbf-4148-bc1d-2555772c2f45",
   "metadata": {},
   "source": [
    "\n",
    "Calculate the solution in equidistant points (for good quality plotting). Note that you need many more points than in wekkly nonlinear case."
   ]
  },
  {
   "cell_type": "code",
   "execution_count": null,
   "id": "302d0a90-44a4-44ca-9531-becec7252a8b",
   "metadata": {},
   "outputs": [],
   "source": [
    "\n",
    "np2 = 4000\n",
    "t2 = range(tspan2[1], tspan2[2], np2)\n",
    "sl2 = sol2(t2);"
   ]
  },
  {
   "cell_type": "markdown",
   "id": "8aab3381-ee77-4453-8fd0-dce3b5404245",
   "metadata": {},
   "source": [
    "Extract coordinates and velocities"
   ]
  },
  {
   "cell_type": "code",
   "execution_count": null,
   "id": "e34e870c-df9e-4d37-97f2-a064b9bdbee6",
   "metadata": {},
   "outputs": [],
   "source": [
    "\n",
    "u2 = pos.(sl2.u)\n",
    "v2 = vel.(sl2.u);"
   ]
  },
  {
   "cell_type": "markdown",
   "id": "cd6cb3ad-87c2-4ef4-8558-ea04b1d887eb",
   "metadata": {},
   "source": [
    "Plot the trajectory in the phase plane:"
   ]
  },
  {
   "cell_type": "code",
   "execution_count": null,
   "id": "762070a9-490c-4d87-b82e-d6f6316fda6e",
   "metadata": {},
   "outputs": [],
   "source": [
    "plot(u2, v2)\n",
    "scatter(u02[1], u02[2], marker=\"o\", color=\"red\", label=\"start\")\n",
    "grid(true)\n",
    "xlabel(L\"x\")\n",
    "ylabel(L\"\\dot{x}\")\n",
    "title(\"Phase trajectory of strongly-nonlinear van der Pol oscillator\")\n",
    "legend();"
   ]
  },
  {
   "cell_type": "code",
   "execution_count": null,
   "id": "7bc72dfc-3974-4db0-9235-15869bd2e68e",
   "metadata": {},
   "outputs": [],
   "source": []
  }
 ],
 "metadata": {
  "kernelspec": {
   "display_name": "Julia 1.10.5",
   "language": "julia",
   "name": "julia-1.10"
  },
  "language_info": {
   "file_extension": ".jl",
   "mimetype": "application/julia",
   "name": "julia",
   "version": "1.10.5"
  }
 },
 "nbformat": 4,
 "nbformat_minor": 5
}
